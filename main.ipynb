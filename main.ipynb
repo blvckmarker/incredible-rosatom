{
 "cells": [
  {
   "cell_type": "code",
   "execution_count": 2,
   "metadata": {},
   "outputs": [],
   "source": [
    "import json\n",
    "import matplotlib.pyplot as plt"
   ]
  },
  {
   "cell_type": "code",
   "execution_count": 3,
   "metadata": {},
   "outputs": [],
   "source": [
    "class Oven:\n",
    "    def __init__(self, start_temp : int, working_temps : list[int], operations : list[str]) -> None:\n",
    "        self.start_temp = start_temp\n",
    "        self.working_temps = working_temps\n",
    "        self.operations = operations\n",
    "\n",
    "class Operation:\n",
    "    def __init__(self, name : str, timing : int) -> None:\n",
    "        self.name = name\n",
    "        self.timing = timing\n",
    "\n",
    "class Series:\n",
    "    def __init__(self, temperature : int, operations : list[Operation]) -> None:\n",
    "        self.temperature = temperature\n",
    "        self.operations = [Operation(**json.loads(json.dumps(op))) for op in operations]\n",
    "\n",
    "class DayData:\n",
    "    def __init__(self, ovens : list[Oven], series : list[Series]) -> None:\n",
    "        self.ovens = [Oven(**json.loads(json.dumps(oven))) for oven in ovens]\n",
    "        self.series = [Series(**json.loads(json.dumps(ser))) for ser in series]"
   ]
  },
  {
   "cell_type": "markdown",
   "metadata": {},
   "source": [
    "Сериализация входного json-файла"
   ]
  },
  {
   "cell_type": "code",
   "execution_count": 4,
   "metadata": {},
   "outputs": [],
   "source": [
    "dataset : list[DayData] = []\n",
    "# for _,_,files in os.walk(root):\n",
    "#     for file in files:\n",
    "#         dataset.append(DayData(**json.loads(open(root + file).read())))\n",
    "path = './train/mini-day1.json'\n",
    "dataset.append(DayData(**json.loads(open(path).read())))"
   ]
  },
  {
   "cell_type": "markdown",
   "metadata": {},
   "source": [
    "Предварительное распределение по печкам\n",
    "\n",
    "<image src=\"Example.png\"/>"
   ]
  },
  {
   "cell_type": "code",
   "execution_count": 5,
   "metadata": {},
   "outputs": [],
   "source": [
    "# Поиск наименее загруженной печи в заданном потоке\n",
    "def find_min(keys : list, src : dict) -> Oven:\n",
    "    minv = 10e9\n",
    "    min_obj = None\n",
    "    for key in keys:\n",
    "        if len(src[key]) < minv:\n",
    "            minv = len(src[key])\n",
    "            min_obj = key\n",
    "    \n",
    "    return min_obj\n",
    "\n",
    "\n",
    "\n",
    "ovens = dataset[0].ovens\n",
    "series = dataset[0].series\n",
    "\n",
    "# Серии, не распределеные по печам\n",
    "wasted_series = []\n",
    "\n",
    "# Предварительный поток печей (Аналогично примеру в .xlxm файле. Ключ словаря - объект печки)\n",
    "ovens_stream : dict[Oven, list[Series]] = {\n",
    "    oven : [] for oven in ovens\n",
    "}\n",
    "\n",
    "for ser in series:\n",
    "    # Поиск печек, поддерживающих операции для данной серии\n",
    "    same_opers_ovens = [oven for oven in ovens if \\\n",
    "                        len(set(oven.operations) & set([op.name for op in ser.operations])) == (len(set([op.name for op in ser.operations])) - 1)]\n",
    "    \n",
    "\n",
    "    if len(same_opers_ovens):\n",
    "        # С одинаковой начальной темп.\n",
    "        same_temps_ovens = [oven for oven in same_opers_ovens if oven.start_temp == ser.temperature]\n",
    "        if len(same_temps_ovens):\n",
    "            # Наименее нагруженная печка\n",
    "            min_filled_oven = find_min(same_temps_ovens, ovens_stream)\n",
    "            ovens_stream[min_filled_oven].append(ser)\n",
    "        else:\n",
    "            min_filled_oven = find_min(same_opers_ovens, ovens_stream)\n",
    "            ovens_stream[min_filled_oven].append(ser)\n",
    "    else:\n",
    "        wasted_series.append(ser)\n",
    "\n",
    "def pretty_print(src):\n",
    "    return [((key.start_temp, key.operations), [(ser.temperature, [(op.name, op.timing) for op in ser.operations])\n",
    "      for ser in src[key]]) for key in src.keys() if 'prokat' in key.operations]"
   ]
  },
  {
   "cell_type": "markdown",
   "metadata": {},
   "source": [
    "Оптимизация потока серий в каждой печи"
   ]
  },
  {
   "cell_type": "code",
   "execution_count": 6,
   "metadata": {},
   "outputs": [],
   "source": [
    "# Сортировка серий в каждой печке по разнице между нач.темп и темп. серии\n",
    "for oven in ovens_stream.keys():\n",
    "    ovens_stream[oven].sort(key=lambda s: abs(s.temperature - oven.start_temp))"
   ]
  },
  {
   "cell_type": "code",
   "execution_count": 7,
   "metadata": {},
   "outputs": [],
   "source": [
    "class OperationDto:\n",
    "    def __init__(self, type, abs_start, abs_end) -> None:\n",
    "        self.type = type\n",
    "        self.abs_start = abs_start\n",
    "        self.abs_end = abs_end\n",
    "\n",
    "class SeriesDto:\n",
    "    def __init__(self, operations : list[OperationDto]) -> None:\n",
    "        self.operations = operations"
   ]
  },
  {
   "cell_type": "code",
   "execution_count": 8,
   "metadata": {},
   "outputs": [],
   "source": [
    "def optimize_with_timing(oven_temp : int, series : list[Series]) -> list[SeriesDto]:\n",
    "    curr_time = 0\n",
    "    TIME_ELAPSED = 1440\n",
    "    dto_series : list[SeriesDto] = []\n",
    "    for ser in series:\n",
    "        to_upload = True\n",
    "\n",
    "        opers_temp : list[OperationDto] = []\n",
    "        # Вручную первую операцию\n",
    "        if curr_time + ser.operations[0].timing <=TIME_ELAPSED:\n",
    "            opers_temp.append(OperationDto(ser.operations[0].name, curr_time, curr_time + ser.operations[0].timing))\n",
    "            curr_time += ser.operations[0].timing\n",
    "\n",
    "        # +2 часа при разных темпах\n",
    "        if ser.temperature != oven_temp:\n",
    "            curr_time += 120\n",
    "            oven_temp = ser.temperature\n",
    "\n",
    "        for i in range(1, len(ser.operations)):\n",
    "            op = ser.operations[i]\n",
    "            # Проверка на границу дня\n",
    "            if curr_time + op.timing > TIME_ELAPSED:\n",
    "                to_upload = False\n",
    "                break\n",
    "            # Две одинаковые операции - +2 часа на подогрев\n",
    "            if ser.operations[i - 1].name == op.name:\n",
    "                if curr_time + 120 >= TIME_ELAPSED:\n",
    "                    to_upload = False\n",
    "                    break \n",
    "                opers_temp.append(OperationDto('progrev goev', curr_time, curr_time + 120))\n",
    "                curr_time += 120\n",
    "        \n",
    "            opers_temp.append(OperationDto(op.name, curr_time, curr_time + op.timing))\n",
    "            curr_time += op.timing\n",
    "\n",
    "        if to_upload:\n",
    "            dto_series.append(SeriesDto(opers_temp))\n",
    "    return dto_series"
   ]
  },
  {
   "cell_type": "code",
   "execution_count": 9,
   "metadata": {},
   "outputs": [],
   "source": [
    "optimized_ovens_stream : dict[Oven, list[SeriesDto]]= {\n",
    "    oven : [] for oven in ovens_stream.keys()\n",
    "}\n",
    "# Инициализация результирующего потока\n",
    "for oven in ovens_stream.keys():\n",
    "    optimized_ovens_stream[oven] = optimize_with_timing(oven.start_temp, ovens_stream[oven])"
   ]
  },
  {
   "cell_type": "markdown",
   "metadata": {},
   "source": [
    "Вывод в файл"
   ]
  },
  {
   "cell_type": "code",
   "execution_count": 10,
   "metadata": {},
   "outputs": [],
   "source": [
    "oven_cnt = 1\n",
    "with open('./etc/out.txt', 'w') as w:\n",
    "    for oven in optimized_ovens_stream.keys():\n",
    "        series_cnt = 1\n",
    "        w.write(\n",
    "            f'###Oven N:{oven_cnt}; {oven.start_temp, oven.operations}###\\n')\n",
    "        for ser in optimized_ovens_stream[oven]:\n",
    "            w.write(f'    Series {series_cnt} of {oven_cnt} oven\\n')\n",
    "            for op in ser.operations:\n",
    "                w.write(f'        {op.type, op.abs_start, op.abs_end}\\n')\n",
    "            series_cnt += 1\n",
    "        oven_cnt += 1"
   ]
  },
  {
   "cell_type": "code",
   "execution_count": 11,
   "metadata": {},
   "outputs": [
    {
     "name": "stdout",
     "output_type": "stream",
     "text": [
      "Workload percent 88.88888888888889%\n"
     ]
    }
   ],
   "source": [
    "workload = sum([len(optimized_ovens_stream[oven]) for oven in optimized_ovens_stream.keys()])\n",
    "print(f'Workload percent {(workload / len(dataset[0].series) * 100)}%')"
   ]
  },
  {
   "cell_type": "code",
   "execution_count": 12,
   "metadata": {},
   "outputs": [],
   "source": [
    "from matplotlib.patches import Rectangle"
   ]
  },
  {
   "cell_type": "code",
   "execution_count": 55,
   "metadata": {},
   "outputs": [
    {
     "data": {
      "image/png": "[encoded data removed]",
      "text/plain": [
       "<Figure size 640x480 with 1 Axes>"
      ]
     },
     "metadata": {},
     "output_type": "display_data"
    }
   ],
   "source": [
    "def map_color(type :str):\n",
    "    if type == 'nagrev':\n",
    "        return 'orange'\n",
    "    if type == 'kovka':\n",
    "        return 'green'\n",
    "    if type == 'otzhig':\n",
    "        return 'red'\n",
    "    if type == 'progrev goev':\n",
    "        return 'yellow'\n",
    "    if type == 'prokat':\n",
    "        return 'blue'\n",
    "    \n",
    "fig, ax = plt.subplots()\n",
    "ax.plot([0, 1440], [0, len(optimized_ovens_stream.keys())])\n",
    "ax.get_lines()[0].remove()\n",
    "\n",
    "cnt = len(optimized_ovens_stream.keys())\n",
    "for oven in optimized_ovens_stream.keys():\n",
    "    for ser in optimized_ovens_stream[oven]:\n",
    "        for op in ser.operations:\n",
    "            ax.add_patch(Rectangle( (op.abs_start, cnt), op.abs_end - op.abs_start, 0.8, facecolor=map_color(op.type)))\n",
    "    cnt -= 1\n",
    "\n",
    "plt.show()\n",
    "\n",
    "# Здесь есть нюанс с изменением темпы. печи в зависимости от серии\n",
    "# Пропуски между соседними состояними - это состояние нагревания/охлаждения печи под серию"
   ]
  }
 ],
 "metadata": {
  "kernelspec": {
   "display_name": "Python 3",
   "language": "python",
   "name": "python3"
  },
  "language_info": {
   "codemirror_mode": {
    "name": "ipython",
    "version": 3
   },
   "file_extension": ".py",
   "mimetype": "text/x-python",
   "name": "python",
   "nbconvert_exporter": "python",
   "pygments_lexer": "ipython3",
   "version": "3.11.6"
  }
 },
 "nbformat": 4,
 "nbformat_minor": 2
}

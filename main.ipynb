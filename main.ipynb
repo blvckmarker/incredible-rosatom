{
 "cells": [
  {
   "cell_type": "code",
   "execution_count": 96,
   "metadata": {},
   "outputs": [],
   "source": [
    "import json\n",
    "import os"
   ]
  },
  {
   "cell_type": "code",
   "execution_count": 97,
   "metadata": {},
   "outputs": [],
   "source": [
    "class Oven:\n",
    "    def __init__(self, start_temp : int, working_temps : list[int], operations : list[str]) -> None:\n",
    "        self.start_temp = start_temp\n",
    "        self.working_temps = working_temps\n",
    "        self.operations = operations\n",
    "\n",
    "class Operation:\n",
    "    def __init__(self, name : str, timing : int) -> None:\n",
    "        self.name = name\n",
    "        self.timing = timing\n",
    "\n",
    "class Series:\n",
    "    def __init__(self, temperature : int, operations : list[Operation]) -> None:\n",
    "        self.temperature = temperature\n",
    "        self.operations = [Operation(**json.loads(json.dumps(op))) for op in operations]\n",
    "\n",
    "class DayData:\n",
    "    def __init__(self, ovens : list[Oven], series : list[Series]) -> None:\n",
    "        self.ovens = [Oven(**json.loads(json.dumps(oven))) for oven in ovens]\n",
    "        self.series = [Series(**json.loads(json.dumps(ser))) for ser in series]"
   ]
  },
  {
   "cell_type": "code",
   "execution_count": 98,
   "metadata": {},
   "outputs": [],
   "source": [
    "dataset : list[DayData] = []\n",
    "root = './train_dataset_train/train/'\n",
    "# for _,_,files in os.walk(root):\n",
    "#     for file in files:\n",
    "#         dataset.append(DayData(**json.loads(open(root + file).read())))\n",
    "path = 'mini-day1.json'\n",
    "dataset.append(DayData(**json.loads(open(path).read())))\n"
   ]
  },
  {
   "cell_type": "code",
   "execution_count": 99,
   "metadata": {},
   "outputs": [
    {
     "data": {
      "text/plain": [
       "{'nagrev_1_1': [299, 960],\n",
       " 'otzhig_1_2': [15, 960],\n",
       " 'nagrev_2_1': [296, 980],\n",
       " 'kovka_2_2': [10, 980],\n",
       " 'kovka_2_3': [10, 980],\n",
       " 'kovka_2_4': [10, 980],\n",
       " 'nagrev_3_1': [300, 1020],\n",
       " 'prokat_3_2': [15, 1020],\n",
       " 'nagrev_4_1': [125, 990],\n",
       " 'prokat_4_2': [15, 990],\n",
       " 'nagrev_5_1': [249, 1040],\n",
       " 'kovka_5_2': [20, 1040],\n",
       " 'kovka_5_3': [10, 1040],\n",
       " 'nagrev_6_1': [268, 1020],\n",
       " 'otzhig_6_2': [15, 1020],\n",
       " 'nagrev_7_1': [222, 980],\n",
       " 'prokat_7_2': [15, 980],\n",
       " 'nagrev_8_1': [221, 1020],\n",
       " 'otzhig_8_2': [15, 1020],\n",
       " 'nagrev_9_1': [71, 1070],\n",
       " 'otzhig_9_2': [15, 1070],\n",
       " 'nagrev_10_1': [232, 1000],\n",
       " 'kovka_10_2': [10, 1000],\n",
       " 'kovka_10_3': [10, 1000],\n",
       " 'kovka_10_4': [20, 1000],\n",
       " 'nagrev_11_1': [82, 980],\n",
       " 'prokat_11_2': [15, 980],\n",
       " 'nagrev_12_1': [213, 1040],\n",
       " 'prokat_12_2': [15, 1040],\n",
       " 'nagrev_13_1': [76, 1080],\n",
       " 'kovka_13_2': [15, 1080],\n",
       " 'nagrev_14_1': [96, 980],\n",
       " 'otzhig_14_2': [15, 980],\n",
       " 'nagrev_15_1': [245, 1080],\n",
       " 'prokat_15_2': [15, 1080],\n",
       " 'nagrev_16_1': [62, 970],\n",
       " 'otzhig_16_2': [15, 970],\n",
       " 'nagrev_17_1': [45, 1030],\n",
       " 'prokat_17_2': [15, 1030],\n",
       " 'nagrev_18_1': [87, 950],\n",
       " 'prokat_18_2': [15, 950],\n",
       " 'nagrev_19_1': [96, 960],\n",
       " 'otzhig_19_2': [15, 960],\n",
       " 'nagrev_20_1': [207, 1030],\n",
       " 'kovka_20_2': [20, 1030],\n",
       " 'kovka_20_3': [15, 1030],\n",
       " 'kovka_20_4': [10, 1030],\n",
       " 'nagrev_21_1': [135, 1060],\n",
       " 'kovka_21_2': [20, 1060],\n",
       " 'kovka_21_3': [20, 1060],\n",
       " 'nagrev_22_1': [171, 1050],\n",
       " 'prokat_22_2': [15, 1050],\n",
       " 'nagrev_23_1': [123, 1060],\n",
       " 'prokat_23_2': [15, 1060],\n",
       " 'nagrev_24_1': [139, 1010],\n",
       " 'kovka_24_2': [20, 1010],\n",
       " 'kovka_24_3': [15, 1010],\n",
       " 'nagrev_25_1': [154, 1090],\n",
       " 'kovka_25_2': [20, 1090],\n",
       " 'nagrev_26_1': [72, 1090],\n",
       " 'prokat_26_2': [15, 1090],\n",
       " 'nagrev_27_1': [107, 1090],\n",
       " 'otzhig_27_2': [15, 1090]}"
      ]
     },
     "execution_count": 99,
     "metadata": {},
     "output_type": "execute_result"
    }
   ],
   "source": [
    "needed_temperature = []\n",
    "needed_operations = {}\n",
    "cnt_series = 1\n",
    "cnt_number_operation = 1\n",
    "for i in range(len(dataset[0].series)):\n",
    "    all_series = dataset[0].series[i]\n",
    "    needed_temperature.append(all_series.temperature)\n",
    "    for j in range(len(all_series.operations)):\n",
    "        all_operations = all_series.operations\n",
    "        needed_operations[all_operations[j].name + '_' + str(cnt_series) + '_' + str(cnt_number_operation)] = [all_operations[j].timing, all_series.temperature]\n",
    "        #первая цифра - номер серии; вторая цифра - номер операции в серии.\n",
    "        cnt_number_operation += 1\n",
    "    cnt_number_operation = 1\n",
    "    cnt_series += 1\n",
    "needed_operations\n"
   ]
  },
  {
   "cell_type": "code",
   "execution_count": 100,
   "metadata": {},
   "outputs": [
    {
     "data": {
      "text/plain": [
       "{'nagrev_1_1': [299, 960],\n",
       " 'otzhig_1_2': [15, 960],\n",
       " 'nagrev_2_1': [296, 980],\n",
       " 'kovka_2_2': [10, 980],\n",
       " 'kovka_2_3': [10, 980],\n",
       " 'kovka_2_4': [10, 980],\n",
       " 'nagrev_3_1': [300, 1020],\n",
       " 'prokat_3_2': [15, 1020],\n",
       " 'nagrev_4_1': [125, 990],\n",
       " 'prokat_4_2': [15, 990],\n",
       " 'nagrev_5_1': [249, 1040],\n",
       " 'kovka_5_2': [20, 1040],\n",
       " 'kovka_5_3': [10, 1040],\n",
       " 'nagrev_6_1': [268, 1020],\n",
       " 'otzhig_6_2': [15, 1020],\n",
       " 'nagrev_7_1': [222, 980],\n",
       " 'prokat_7_2': [15, 980],\n",
       " 'nagrev_8_1': [221, 1020],\n",
       " 'otzhig_8_2': [15, 1020],\n",
       " 'nagrev_9_1': [71, 1070],\n",
       " 'otzhig_9_2': [15, 1070],\n",
       " 'nagrev_10_1': [232, 1000],\n",
       " 'kovka_10_2': [10, 1000],\n",
       " 'kovka_10_3': [10, 1000],\n",
       " 'kovka_10_4': [20, 1000],\n",
       " 'nagrev_11_1': [82, 980],\n",
       " 'prokat_11_2': [15, 980],\n",
       " 'nagrev_12_1': [213, 1040],\n",
       " 'prokat_12_2': [15, 1040],\n",
       " 'nagrev_13_1': [76, 1080],\n",
       " 'kovka_13_2': [15, 1080],\n",
       " 'nagrev_14_1': [96, 980],\n",
       " 'otzhig_14_2': [15, 980],\n",
       " 'nagrev_15_1': [245, 1080],\n",
       " 'prokat_15_2': [15, 1080],\n",
       " 'nagrev_16_1': [62, 970],\n",
       " 'otzhig_16_2': [15, 970],\n",
       " 'nagrev_17_1': [45, 1030],\n",
       " 'prokat_17_2': [15, 1030],\n",
       " 'nagrev_18_1': [87, 950],\n",
       " 'prokat_18_2': [15, 950],\n",
       " 'nagrev_19_1': [96, 960],\n",
       " 'otzhig_19_2': [15, 960],\n",
       " 'nagrev_20_1': [207, 1030],\n",
       " 'kovka_20_2': [20, 1030],\n",
       " 'kovka_20_3': [15, 1030],\n",
       " 'kovka_20_4': [10, 1030],\n",
       " 'nagrev_21_1': [135, 1060],\n",
       " 'kovka_21_2': [20, 1060],\n",
       " 'kovka_21_3': [20, 1060],\n",
       " 'nagrev_22_1': [171, 1050],\n",
       " 'prokat_22_2': [15, 1050],\n",
       " 'nagrev_23_1': [123, 1060],\n",
       " 'prokat_23_2': [15, 1060],\n",
       " 'nagrev_24_1': [139, 1010],\n",
       " 'kovka_24_2': [20, 1010],\n",
       " 'kovka_24_3': [15, 1010],\n",
       " 'nagrev_25_1': [154, 1090],\n",
       " 'kovka_25_2': [20, 1090],\n",
       " 'nagrev_26_1': [72, 1090],\n",
       " 'prokat_26_2': [15, 1090],\n",
       " 'nagrev_27_1': [107, 1090],\n",
       " 'otzhig_27_2': [15, 1090],\n",
       " 'podogrev_2_2': [120, 0],\n",
       " 'podogrev_2_3': [120, 0],\n",
       " 'podogrev_5_2': [120, 0],\n",
       " 'podogrev_10_2': [120, 0],\n",
       " 'podogrev_10_3': [120, 0],\n",
       " 'podogrev_20_2': [120, 0],\n",
       " 'podogrev_20_3': [120, 0],\n",
       " 'podogrev_21_2': [120, 0],\n",
       " 'podogrev_24_2': [120, 0]}"
      ]
     },
     "execution_count": 100,
     "metadata": {},
     "output_type": "execute_result"
    }
   ],
   "source": [
    "for_timings = list(needed_operations.items())\n",
    "for i in range(len(for_timings) - 1):\n",
    "    cur_pair = for_timings[i]\n",
    "    next_pair = for_timings[i + 1]\n",
    "    if 'kovka' in cur_pair[0] and 'kovka' in next_pair[0]:\n",
    "        cur_elems = cur_pair[0].split('_')\n",
    "        next_elems = next_pair[0].split('_')\n",
    "        if int(cur_elems[1]) == int(next_elems[1]):\n",
    "            needed_operations['podogrev_' + str(cur_elems[1]) + '_' + str(cur_elems[2])] = [120, 0]\n",
    "needed_operations\n"
   ]
  },
  {
   "cell_type": "code",
   "execution_count": 101,
   "metadata": {},
   "outputs": [
    {
     "data": {
      "text/plain": [
       "[980, 1010, 1100, 1030, 1130, 1090, 1020]"
      ]
     },
     "execution_count": 101,
     "metadata": {},
     "output_type": "execute_result"
    }
   ],
   "source": [
    "ovens_temperature = []\n",
    "for i in range(len(dataset[0].ovens)):\n",
    "    all_series = dataset[0].ovens[i]\n",
    "    ovens_temperature.append(all_series.start_temp)\n",
    "ovens_temperature"
   ]
  },
  {
   "cell_type": "code",
   "execution_count": 102,
   "metadata": {},
   "outputs": [],
   "source": [
    "good_series = []\n",
    "remain_series = []\n",
    "for oven in dataset[0].ovens:\n",
    "    ser_cnt = 0\n",
    "    ser_temp = [oven]\n",
    "    for ser in dataset[0].series:\n",
    "        if ser.temperature == oven.start_temp and \\\n",
    "           len(set([op.name for op in ser.operations if op.name != 'nagrev']) & set(oven.operations)) == (len(ser.operations) - 1):\n",
    "            ser_temp.append((ser_cnt, ser))\n",
    "        ser_cnt += 1\n",
    "    \n",
    "    if len(ser_temp) != 1:\n",
    "        good_series.append(ser_temp)\n",
    "    else:\n",
    "        remain_series.append(ser_temp)"
   ]
  },
  {
   "cell_type": "code",
   "execution_count": 103,
   "metadata": {},
   "outputs": [
    {
     "data": {
      "text/plain": [
       "[[<__main__.Oven at 0x17c18cee4d0>,\n",
       "  (6, <__main__.Series at 0x17c18cd6390>),\n",
       "  (10, <__main__.Series at 0x17c18cee810>)],\n",
       " [<__main__.Oven at 0x17c18ced450>, (25, <__main__.Series at 0x17c18c349d0>)],\n",
       " [<__main__.Oven at 0x17c18cee5d0>,\n",
       "  (5, <__main__.Series at 0x17c18cd5010>),\n",
       "  (7, <__main__.Series at 0x17c18cd4910>)]]"
      ]
     },
     "execution_count": 103,
     "metadata": {},
     "output_type": "execute_result"
    }
   ],
   "source": [
    "good_series"
   ]
  },
  {
   "cell_type": "code",
   "execution_count": 104,
   "metadata": {},
   "outputs": [],
   "source": [
    "def first(src : list, cond):\n",
    "    for i in src:\n",
    "        if cond(i):\n",
    "            return i\n",
    "    return None"
   ]
  },
  {
   "cell_type": "code",
   "execution_count": 105,
   "metadata": {},
   "outputs": [
    {
     "name": "stdout",
     "output_type": "stream",
     "text": [
      "Help on class Oven in module __main__:\n",
      "\n",
      "class Oven(builtins.object)\n",
      " |  Oven(start_temp: int, working_temps: list[int], operations: list[str]) -> None\n",
      " |  \n",
      " |  Methods defined here:\n",
      " |  \n",
      " |  __init__(self, start_temp: int, working_temps: list[int], operations: list[str]) -> None\n",
      " |      Initialize self.  See help(type(self)) for accurate signature.\n",
      " |  \n",
      " |  ----------------------------------------------------------------------\n",
      " |  Data descriptors defined here:\n",
      " |  \n",
      " |  __dict__\n",
      " |      dictionary for instance variables (if defined)\n",
      " |  \n",
      " |  __weakref__\n",
      " |      list of weak references to the object (if defined)\n",
      "\n"
     ]
    }
   ],
   "source": [
    "help(Oven)"
   ]
  },
  {
   "cell_type": "markdown",
   "metadata": {},
   "source": [
    "Предварительное распределение по печкам"
   ]
  },
  {
   "cell_type": "code",
   "execution_count": 136,
   "metadata": {},
   "outputs": [
    {
     "data": {
      "text/plain": [
       "[((980, ['prokat', 'prokat']),\n",
       "  [(1020, [('nagrev', 300), ('prokat', 15)]),\n",
       "   (980, [('nagrev', 222), ('prokat', 15)]),\n",
       "   (980, [('nagrev', 82), ('prokat', 15)])]),\n",
       " ((1100, ['kovka', 'prokat']),\n",
       "  [(990, [('nagrev', 125), ('prokat', 15)]),\n",
       "   (1080, [('nagrev', 76), ('kovka', 15)]),\n",
       "   (1050, [('nagrev', 171), ('prokat', 15)])]),\n",
       " ((1130, ['prokat']),\n",
       "  [(1040, [('nagrev', 213), ('prokat', 15)]),\n",
       "   (1030, [('nagrev', 45), ('prokat', 15)]),\n",
       "   (1060, [('nagrev', 123), ('prokat', 15)])]),\n",
       " ((1090, ['prokat']),\n",
       "  [(1080, [('nagrev', 245), ('prokat', 15)]),\n",
       "   (950, [('nagrev', 87), ('prokat', 15)]),\n",
       "   (1090, [('nagrev', 72), ('prokat', 15)])])]"
      ]
     },
     "execution_count": 136,
     "metadata": {},
     "output_type": "execute_result"
    }
   ],
   "source": [
    "def find_min(keys : list, src : dict) -> Oven:\n",
    "    minv = 10e9\n",
    "    min_obj = None\n",
    "    for key in keys:\n",
    "        if len(src[key]) < minv:\n",
    "            minv = len(src[key])\n",
    "            min_obj = key\n",
    "    \n",
    "    return min_obj\n",
    "\n",
    "\n",
    "\n",
    "ovens = dataset[0].ovens\n",
    "series = dataset[0].series\n",
    "\n",
    "wasted_series = []\n",
    "ovens_stream : dict[Oven, list[Series]] = {\n",
    "    oven : [] for oven in ovens\n",
    "}\n",
    "\n",
    "for ser in series:\n",
    "    same_opers_ovens = [oven for oven in ovens if \\\n",
    "                        len(set(oven.operations) & set([op.name for op in ser.operations])) == (len(set([op.name for op in ser.operations])) - 1)]\n",
    "    \n",
    "\n",
    "    #print([op.name for op in ser.operations], [oven.operations for oven in same_opers_ovens])\n",
    "    if len(same_opers_ovens):\n",
    "\n",
    "        same_temps_ovens = [oven for oven in same_opers_ovens if oven.start_temp == ser.temperature]\n",
    "        if len(same_temps_ovens):\n",
    "            min_filled_oven = find_min(same_temps_ovens, ovens_stream)\n",
    "            ovens_stream[min_filled_oven].append(ser)\n",
    "        else:\n",
    "            min_filled_oven = find_min(same_opers_ovens, ovens_stream)\n",
    "            ovens_stream[min_filled_oven].append(ser)\n",
    "    else:\n",
    "        wasted_series.append(ser)\n",
    "\n",
    "\n",
    "# (temp, []), [(temp, [])]\n",
    "\n",
    "def pretty_print(src):\n",
    "    return [((key.start_temp, key.operations), [(ser.temperature, [(op.name, op.timing) for op in ser.operations])\n",
    "      for ser in src[key]]) for key in src.keys() if 'prokat' in key.operations]\n",
    "\n",
    "pretty_print(ovens_stream)"
   ]
  },
  {
   "cell_type": "markdown",
   "metadata": {},
   "source": [
    "Оптимизация потока серий в каждой печи"
   ]
  },
  {
   "cell_type": "code",
   "execution_count": 137,
   "metadata": {},
   "outputs": [
    {
     "data": {
      "text/plain": [
       "[((980, ['prokat', 'prokat']),\n",
       "  [(980, [('nagrev', 222), ('prokat', 15)]),\n",
       "   (980, [('nagrev', 82), ('prokat', 15)]),\n",
       "   (1020, [('nagrev', 300), ('prokat', 15)])]),\n",
       " ((1100, ['kovka', 'prokat']),\n",
       "  [(1080, [('nagrev', 76), ('kovka', 15)]),\n",
       "   (1050, [('nagrev', 171), ('prokat', 15)]),\n",
       "   (990, [('nagrev', 125), ('prokat', 15)])]),\n",
       " ((1130, ['prokat']),\n",
       "  [(1060, [('nagrev', 123), ('prokat', 15)]),\n",
       "   (1040, [('nagrev', 213), ('prokat', 15)]),\n",
       "   (1030, [('nagrev', 45), ('prokat', 15)])]),\n",
       " ((1090, ['prokat']),\n",
       "  [(1090, [('nagrev', 72), ('prokat', 15)]),\n",
       "   (1080, [('nagrev', 245), ('prokat', 15)]),\n",
       "   (950, [('nagrev', 87), ('prokat', 15)])])]"
      ]
     },
     "execution_count": 137,
     "metadata": {},
     "output_type": "execute_result"
    }
   ],
   "source": [
    "for oven in ovens_stream.keys():\n",
    "    ovens_stream[oven].sort(key=lambda s: abs(s.temperature - oven.start_temp))\n",
    "\n",
    "\n",
    "pretty_print(ovens_stream)"
   ]
  },
  {
   "cell_type": "code",
   "execution_count": 138,
   "metadata": {},
   "outputs": [],
   "source": [
    "class OperationDto:\n",
    "    def __init__(self, type, abs_start, abs_end) -> None:\n",
    "        self.type = type\n",
    "        self.abs_start = abs_start\n",
    "        self.abs_end = abs_end\n",
    "\n",
    "class SeriesDto:\n",
    "    def __init__(self, operations : list[OperationDto]) -> None:\n",
    "        self.operations = operations"
   ]
  },
  {
   "cell_type": "code",
   "execution_count": 206,
   "metadata": {},
   "outputs": [],
   "source": [
    "def optimize_with_timing(oven_temp : int, series : list[Series]) -> list[SeriesDto]:\n",
    "    curr_time = 0\n",
    "    TIME_ELAPSED = 1440\n",
    "    dto_series : list[SeriesDto] = []\n",
    "    for ser in series:\n",
    "        to_upload = True\n",
    "\n",
    "        opers_temp : list[OperationDto] = []\n",
    "        # Вручную первую операцию\n",
    "        if curr_time + ser.operations[0].timing <=TIME_ELAPSED:\n",
    "            opers_temp.append(OperationDto(ser.operations[0].name, curr_time, curr_time + ser.operations[0].timing))\n",
    "            curr_time += ser.operations[0].timing\n",
    "\n",
    "        if ser.temperature != oven_temp:\n",
    "            curr_time += 120\n",
    "            oven_temp = ser.temperature\n",
    "\n",
    "        for i in range(1, len(ser.operations)):\n",
    "            op = ser.operations[i]\n",
    "            if curr_time + op.timing > TIME_ELAPSED:\n",
    "                to_upload = False\n",
    "                break\n",
    "            if ser.operations[i - 1].name == op.name:\n",
    "                if curr_time + 120 >= TIME_ELAPSED:\n",
    "                    to_upload = False\n",
    "                    break \n",
    "                opers_temp.append(OperationDto('progrev goev', curr_time, curr_time + 120))\n",
    "                curr_time += 120\n",
    "        \n",
    "            opers_temp.append(OperationDto(op.name, curr_time, curr_time + op.timing))\n",
    "            curr_time += op.timing\n",
    "\n",
    "        if to_upload:\n",
    "            dto_series.append(SeriesDto(opers_temp))\n",
    "    return dto_series"
   ]
  },
  {
   "cell_type": "code",
   "execution_count": 185,
   "metadata": {},
   "outputs": [
    {
     "data": {
      "text/plain": [
       "[[('nagrev', 139), ('kovka', 20), ('kovka', 15)],\n",
       " [('nagrev', 232), ('kovka', 10), ('kovka', 10), ('kovka', 20)],\n",
       " [('nagrev', 296), ('kovka', 10), ('kovka', 10), ('kovka', 10)],\n",
       " [('nagrev', 135), ('kovka', 20), ('kovka', 20)]]"
      ]
     },
     "execution_count": 185,
     "metadata": {},
     "output_type": "execute_result"
    }
   ],
   "source": [
    "[[(op.name, op.timing) for op in ser.operations] for ser in ovens_stream[ovens[1]]]"
   ]
  },
  {
   "cell_type": "code",
   "execution_count": 207,
   "metadata": {},
   "outputs": [],
   "source": [
    "optimized_ovens_stream : dict[Oven, list[SeriesDto]]= {\n",
    "    oven : [] for oven in ovens_stream.keys()\n",
    "}\n",
    "for oven in ovens_stream.keys():\n",
    "    optimized_ovens_stream[oven] = optimize_with_timing(oven.start_temp, ovens_stream[oven])"
   ]
  },
  {
   "cell_type": "markdown",
   "metadata": {},
   "source": [
    "Вывод в файл"
   ]
  },
  {
   "cell_type": "code",
   "execution_count": null,
   "metadata": {},
   "outputs": [],
   "source": [
    "oven_cnt = 1\n",
    "with open('./out.txt', 'w') as w:\n",
    "    for oven in optimized_ovens_stream.keys():\n",
    "        series_cnt = 1\n",
    "        w.write(\n",
    "            f'###Oven N:{oven_cnt}; {oven.start_temp, oven.operations}###\\n')\n",
    "        for ser in optimized_ovens_stream[oven]:\n",
    "            w.write(f'    Series {series_cnt} of {oven_cnt} oven\\n')\n",
    "            for op in ser.operations:\n",
    "                w.write(f'        {op.type, op.abs_start, op.abs_end}\\n')\n",
    "            series_cnt += 1\n",
    "        oven_cnt += 1"
   ]
  },
  {
   "cell_type": "code",
   "execution_count": 221,
   "metadata": {},
   "outputs": [
    {
     "name": "stdout",
     "output_type": "stream",
     "text": [
      "Workload percent 88.88888888888889%\n"
     ]
    }
   ],
   "source": [
    "workload = sum([len(optimized_ovens_stream[oven]) for oven in optimized_ovens_stream.keys()])\n",
    "print(f'Workload percent {(workload / len(dataset[0].series) * 100)}%')"
   ]
  }
 ],
 "metadata": {
  "kernelspec": {
   "display_name": "Python 3",
   "language": "python",
   "name": "python3"
  },
  "language_info": {
   "codemirror_mode": {
    "name": "ipython",
    "version": 3
   },
   "file_extension": ".py",
   "mimetype": "text/x-python",
   "name": "python",
   "nbconvert_exporter": "python",
   "pygments_lexer": "ipython3",
   "version": "3.11.6"
  }
 },
 "nbformat": 4,
 "nbformat_minor": 2
}

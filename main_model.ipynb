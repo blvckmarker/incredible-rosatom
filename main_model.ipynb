{
 "cells": [
  {
   "cell_type": "code",
   "execution_count": 1,
   "metadata": {},
   "outputs": [],
   "source": [
    "import json\n",
    "import os\n",
    "from enum import Enum"
   ]
  },
  {
   "cell_type": "code",
   "execution_count": 2,
   "metadata": {},
   "outputs": [],
   "source": [
    "class Oven:\n",
    "    def __init__(self, start_temp : int, working_temps : list[int], operations : list[str]) -> None:\n",
    "        self.start_temp = start_temp\n",
    "        self.working_temps = working_temps\n",
    "        self.operations = operations\n",
    "\n",
    "class Operation:\n",
    "    def __init__(self, name : str, timing : int) -> None:\n",
    "        self.name = name\n",
    "        self.timing = timing\n",
    "\n",
    "class Series:\n",
    "    def __init__(self, temperature : int, operations : list[Operation]) -> None:\n",
    "        self.temperature = temperature\n",
    "        self.operations = [Operation(**json.loads(json.dumps(op))) for op in operations]\n",
    "\n",
    "class DayData:\n",
    "    def __init__(self, ovens : list[Oven], series : list[Series]) -> None:\n",
    "        self.ovens = [Oven(**json.loads(json.dumps(oven))) for oven in ovens]\n",
    "        self.series = [Series(**json.loads(json.dumps(ser))) for ser in series]\n",
    "\n",
    "class OPERS(Enum):\n",
    "    prokat = -1\n",
    "    kovka = -2\n",
    "    otzhig = -3\n",
    "    nagrev = -4\n",
    "\n",
    "class OperationDto:\n",
    "    def __init__(self, type, abs_start, abs_end) -> None:\n",
    "        self.type = type\n",
    "        self.abs_start = abs_start\n",
    "        self.abs_end = abs_end\n",
    "\n",
    "class SeriesDto:\n",
    "    def __init__(self, operations : list[OperationDto]) -> None:\n",
    "        self.operations = operations"
   ]
  },
  {
   "cell_type": "code",
   "execution_count": 3,
   "metadata": {},
   "outputs": [],
   "source": [
    "dataset : list[DayData] = []\n",
    "root = './train_dataset_train/train/'\n",
    "# for _,_,files in os.walk(root):\n",
    "#     for file in files:\n",
    "#         dataset.append(DayData(**json.loads(open(root + file).read())))\n",
    "path = 'mini-day1.json'\n",
    "dataset.append(DayData(**json.loads(open(path).read())))\n"
   ]
  },
  {
   "cell_type": "code",
   "execution_count": 9,
   "metadata": {},
   "outputs": [],
   "source": [
    "def first(src : list, cond):\n",
    "    for i in src:\n",
    "        if cond(i):\n",
    "            return i\n",
    "    return None"
   ]
  },
  {
   "cell_type": "markdown",
   "metadata": {},
   "source": [
    "Предварительное распределение по печкам"
   ]
  },
  {
   "cell_type": "code",
   "execution_count": 11,
   "metadata": {},
   "outputs": [
    {
     "data": {
      "text/plain": [
       "[((980, ['prokat', 'prokat']),\n",
       "  [(1020, [('nagrev', 300), ('prokat', 15)]),\n",
       "   (980, [('nagrev', 222), ('prokat', 15)]),\n",
       "   (980, [('nagrev', 82), ('prokat', 15)])]),\n",
       " ((1100, ['prokat', 'prokat']),\n",
       "  [(990, [('nagrev', 125), ('prokat', 15)]),\n",
       "   (1030, [('nagrev', 45), ('prokat', 15)]),\n",
       "   (1060, [('nagrev', 123), ('prokat', 15)])]),\n",
       " ((1130, ['prokat']),\n",
       "  [(1040, [('nagrev', 213), ('prokat', 15)]),\n",
       "   (950, [('nagrev', 87), ('prokat', 15)])]),\n",
       " ((1090, ['prokat']),\n",
       "  [(1080, [('nagrev', 245), ('prokat', 15)]),\n",
       "   (1050, [('nagrev', 171), ('prokat', 15)]),\n",
       "   (1090, [('nagrev', 72), ('prokat', 15)])])]"
      ]
     },
     "execution_count": 11,
     "metadata": {},
     "output_type": "execute_result"
    }
   ],
   "source": [
    "def find_min(keys : list, src : dict) -> Oven:\n",
    "    minv = 10e9\n",
    "    min_obj = None\n",
    "    for key in keys:\n",
    "        if len(src[key]) < minv:\n",
    "            minv = len(src[key])\n",
    "            min_obj = key\n",
    "    \n",
    "    return min_obj\n",
    "\n",
    "\n",
    "\n",
    "ovens = dataset[0].ovens\n",
    "series = dataset[0].series\n",
    "\n",
    "wasted_series = []\n",
    "ovens_stream : dict[Oven, list[Series]] = {\n",
    "    oven : [] for oven in ovens\n",
    "}\n",
    "\n",
    "for ser in series:\n",
    "    same_opers_ovens = [oven for oven in ovens if \\\n",
    "                        len(set(oven.operations) & set([op.name for op in ser.operations])) == (len(set([op.name for op in ser.operations])) - 1)]\n",
    "    \n",
    "\n",
    "    #print([op.name for op in ser.operations], [oven.operations for oven in same_opers_ovens])\n",
    "    if len(same_opers_ovens):\n",
    "\n",
    "        same_temps_ovens = [oven for oven in same_opers_ovens if oven.start_temp == ser.temperature]\n",
    "        if len(same_temps_ovens):\n",
    "            min_filled_oven = find_min(same_temps_ovens, ovens_stream)\n",
    "            ovens_stream[min_filled_oven].append(ser)\n",
    "        else:\n",
    "            min_filled_oven = find_min(same_opers_ovens, ovens_stream)\n",
    "            ovens_stream[min_filled_oven].append(ser)\n",
    "    else:\n",
    "        wasted_series.append(ser)\n",
    "\n",
    "\n",
    "# (temp, []), [(temp, [])]\n",
    "\n",
    "def pretty_print(src):\n",
    "    return [((key.start_temp, key.operations), [(ser.temperature, [(op.name, op.timing) for op in ser.operations])\n",
    "      for ser in src[key]]) for key in src.keys() if 'prokat' in key.operations]\n",
    "\n",
    "pretty_print(ovens_stream)"
   ]
  },
  {
   "cell_type": "markdown",
   "metadata": {},
   "source": [
    "Оптимизация потока серий в каждой печи"
   ]
  },
  {
   "cell_type": "code",
   "execution_count": 12,
   "metadata": {},
   "outputs": [
    {
     "data": {
      "text/plain": [
       "[((980, ['prokat', 'prokat']),\n",
       "  [(980, [('nagrev', 222), ('prokat', 15)]),\n",
       "   (980, [('nagrev', 82), ('prokat', 15)]),\n",
       "   (1020, [('nagrev', 300), ('prokat', 15)])]),\n",
       " ((1100, ['prokat', 'prokat']),\n",
       "  [(1060, [('nagrev', 123), ('prokat', 15)]),\n",
       "   (1030, [('nagrev', 45), ('prokat', 15)]),\n",
       "   (990, [('nagrev', 125), ('prokat', 15)])]),\n",
       " ((1130, ['prokat']),\n",
       "  [(1040, [('nagrev', 213), ('prokat', 15)]),\n",
       "   (950, [('nagrev', 87), ('prokat', 15)])]),\n",
       " ((1090, ['prokat']),\n",
       "  [(1090, [('nagrev', 72), ('prokat', 15)]),\n",
       "   (1080, [('nagrev', 245), ('prokat', 15)]),\n",
       "   (1050, [('nagrev', 171), ('prokat', 15)])])]"
      ]
     },
     "execution_count": 12,
     "metadata": {},
     "output_type": "execute_result"
    }
   ],
   "source": [
    "for oven in ovens_stream.keys():\n",
    "    ovens_stream[oven].sort(key=lambda s: abs(s.temperature - oven.start_temp))\n",
    "\n",
    "\n",
    "pretty_print(ovens_stream)"
   ]
  },
  {
   "cell_type": "code",
   "execution_count": 14,
   "metadata": {},
   "outputs": [],
   "source": [
    "def optimize_with_timing(oven_temp : int, series : list[Series]) -> list[SeriesDto]:\n",
    "    curr_time = 0\n",
    "    TIME_ELAPSED = 1440\n",
    "    dto_series : list[SeriesDto] = []\n",
    "    for ser in series:\n",
    "        to_upload = True\n",
    "\n",
    "        opers_temp : list[OperationDto] = []\n",
    "        # Вручную первую операцию\n",
    "        if curr_time + ser.operations[0].timing <=TIME_ELAPSED:\n",
    "            opers_temp.append(OperationDto(ser.operations[0].name, curr_time, curr_time + ser.operations[0].timing))\n",
    "            curr_time += ser.operations[0].timing\n",
    "\n",
    "        if ser.temperature != oven_temp:\n",
    "            curr_time += 120\n",
    "            oven_temp = ser.temperature\n",
    "\n",
    "        for i in range(1, len(ser.operations)):\n",
    "            op = ser.operations[i]\n",
    "            if curr_time + op.timing > TIME_ELAPSED:\n",
    "                to_upload = False\n",
    "                break\n",
    "            if ser.operations[i - 1].name == op.name:\n",
    "                if curr_time + 120 >= TIME_ELAPSED:\n",
    "                    to_upload = False\n",
    "                    break \n",
    "                opers_temp.append(OperationDto('progrev goev', curr_time, curr_time + 120))\n",
    "                curr_time += 120\n",
    "        \n",
    "            opers_temp.append(OperationDto(op.name, curr_time, curr_time + op.timing))\n",
    "            curr_time += op.timing\n",
    "\n",
    "        if to_upload:\n",
    "            dto_series.append(SeriesDto(opers_temp))\n",
    "    return dto_series"
   ]
  },
  {
   "cell_type": "markdown",
   "metadata": {},
   "source": [
    "Формат Данных"
   ]
  },
  {
   "cell_type": "code",
   "execution_count": 15,
   "metadata": {},
   "outputs": [
    {
     "data": {
      "text/plain": [
       "[[('nagrev', 139), ('kovka', 20), ('kovka', 15)],\n",
       " [('nagrev', 232), ('kovka', 10), ('kovka', 10), ('kovka', 20)],\n",
       " [('nagrev', 296), ('kovka', 10), ('kovka', 10), ('kovka', 10)],\n",
       " [('nagrev', 135), ('kovka', 20), ('kovka', 20)]]"
      ]
     },
     "execution_count": 15,
     "metadata": {},
     "output_type": "execute_result"
    }
   ],
   "source": [
    "[[(op.name, op.timing) for op in ser.operations] for ser in ovens_stream[ovens[1]]]"
   ]
  },
  {
   "cell_type": "code",
   "execution_count": 16,
   "metadata": {},
   "outputs": [],
   "source": [
    "optimized_ovens_stream : dict[Oven, list[SeriesDto]]= {\n",
    "    oven : [] for oven in ovens_stream.keys()\n",
    "}\n",
    "for oven in ovens_stream.keys():\n",
    "    optimized_ovens_stream[oven] = optimize_with_timing(oven.start_temp, ovens_stream[oven])\n",
    "\n",
    "\n",
    "oven_cnt = 1\n",
    "with open('./out.txt', 'w') as w:\n",
    "    for oven in optimized_ovens_stream.keys():\n",
    "        series_cnt = 1\n",
    "        w.write(f'###Oven N:{oven_cnt}; {oven.start_temp, oven.operations}###\\n')\n",
    "        for ser in optimized_ovens_stream[oven]:\n",
    "            w.write(f'    Series {series_cnt} of {oven_cnt} oven\\n')\n",
    "            for op in ser.operations:\n",
    "                w.write(f'        {op.type, op.abs_start, op.abs_end}\\n')\n",
    "            series_cnt += 1\n",
    "        oven_cnt += 1"
   ]
  },
  {
   "cell_type": "code",
   "execution_count": 50,
   "metadata": {},
   "outputs": [
    {
     "data": {
      "text/plain": [
       "[((980, ['prokat', 'prokat']),\n",
       "  [(980, [('nagrev', 222), ('prokat', 15)]),\n",
       "   (980, [('nagrev', 82), ('prokat', 15)]),\n",
       "   (1020, [('nagrev', 300), ('prokat', 15)])]),\n",
       " ((1100, ['prokat', 'prokat']),\n",
       "  [(1060, [('nagrev', 123), ('prokat', 15)]),\n",
       "   (1030, [('nagrev', 45), ('prokat', 15)]),\n",
       "   (990, [('nagrev', 125), ('prokat', 15)])]),\n",
       " ((1130, ['prokat']),\n",
       "  [(1040, [('nagrev', 213), ('prokat', 15)]),\n",
       "   (950, [('nagrev', 87), ('prokat', 15)])]),\n",
       " ((1090, ['prokat']),\n",
       "  [(1090, [('nagrev', 72), ('prokat', 15)]),\n",
       "   (1080, [('nagrev', 245), ('prokat', 15)]),\n",
       "   (1050, [('nagrev', 171), ('prokat', 15)])])]"
      ]
     },
     "execution_count": 50,
     "metadata": {},
     "output_type": "execute_result"
    }
   ],
   "source": [
    "pretty_print(ovens_stream) #Данные в текстовом виде"
   ]
  },
  {
   "cell_type": "markdown",
   "metadata": {},
   "source": [
    "Преобразование и выпрямление данных"
   ]
  },
  {
   "cell_type": "code",
   "execution_count": 201,
   "metadata": {},
   "outputs": [
    {
     "name": "stdout",
     "output_type": "stream",
     "text": [
      "([-1, 0, 0], 980, [1040, 970, 1180, 1030, 980, 0, 0, 0, 0, 0])\n",
      "([-2, 0, 0], 1010, [960, 1180, 1110, 1010, 0, 0, 0, 0, 0, 0])\n",
      "([-1, 0, 0], 1100, [1060, 1160, 1070, 1110, 950, 990, 1100, 0, 0, 0])\n",
      "([-2, 0, 0], 1030, [1220, 1160, 1000, 1230, 1200, 1240, 1030, 0, 0, 0])\n",
      "([-1, 0, 0], 1130, [1080, 1130, 1100, 0, 0, 0, 0, 0, 0, 0])\n",
      "([-1, 0, 0], 1090, [1090, 1220, 1000, 1130, 1100, 1200, 1010, 1110, 1150, 0])\n",
      "([-3, 0, 0], 1020, [960, 970, 1070, 1010, 1170, 1020, 990, 0, 0, 0])\n"
     ]
    },
    {
     "data": {
      "text/plain": [
       "[-1,\n",
       " 0,\n",
       " 0,\n",
       " 980,\n",
       " 1040,\n",
       " 970,\n",
       " 1180,\n",
       " 1030,\n",
       " 980,\n",
       " [0, 222],\n",
       " [222, 237],\n",
       " [237, 319],\n",
       " [319, 334],\n",
       " [334, 634],\n",
       " [754, 769],\n",
       " [0, 0],\n",
       " [0, 0],\n",
       " [0, 0],\n",
       " [0, 0],\n",
       " [0, 0],\n",
       " [0, 0],\n",
       " [0, 0],\n",
       " -2,\n",
       " 0,\n",
       " 0,\n",
       " 1010,\n",
       " 960,\n",
       " 1180,\n",
       " 1110,\n",
       " 1010,\n",
       " [0, 139],\n",
       " [139, 159],\n",
       " [159, 279],\n",
       " [279, 294],\n",
       " [294, 526],\n",
       " [646, 656],\n",
       " [656, 776],\n",
       " [776, 786],\n",
       " [786, 906],\n",
       " [906, 926],\n",
       " [0, 0],\n",
       " [0, 0],\n",
       " [0, 0],\n",
       " [0, 0],\n",
       " [0, 0],\n",
       " [0, 0],\n",
       " [0, 0],\n",
       " [0, 0],\n",
       " -1,\n",
       " 0,\n",
       " 0,\n",
       " 1100,\n",
       " 1060,\n",
       " 1160,\n",
       " 1070,\n",
       " 1110,\n",
       " 950,\n",
       " 990,\n",
       " 1100,\n",
       " [0, 123],\n",
       " [243, 258],\n",
       " [258, 303],\n",
       " [423, 438],\n",
       " [438, 563],\n",
       " [683, 698],\n",
       " [0, 0],\n",
       " [0, 0],\n",
       " [0, 0],\n",
       " [0, 0],\n",
       " [0, 0],\n",
       " [0, 0],\n",
       " [0, 0],\n",
       " -2,\n",
       " 0,\n",
       " 0,\n",
       " 1030,\n",
       " 1220,\n",
       " 1160,\n",
       " 1000,\n",
       " 1230,\n",
       " 1200,\n",
       " 1240,\n",
       " 1030,\n",
       " [0, 207],\n",
       " [207, 227],\n",
       " [227, 347],\n",
       " [347, 362],\n",
       " [362, 482],\n",
       " [482, 492],\n",
       " [492, 741],\n",
       " [861, 881],\n",
       " [881, 1001],\n",
       " [1001, 1011],\n",
       " [1011, 1087],\n",
       " [1207, 1222],\n",
       " [0, 0],\n",
       " [0, 0],\n",
       " [0, 0],\n",
       " [0, 0],\n",
       " [0, 0],\n",
       " [0, 0],\n",
       " [0, 0],\n",
       " -1,\n",
       " 0,\n",
       " 0,\n",
       " 1130,\n",
       " 1080,\n",
       " 1130,\n",
       " 1100,\n",
       " [0, 213],\n",
       " [333, 348],\n",
       " [348, 435],\n",
       " [555, 570],\n",
       " [0, 0],\n",
       " [0, 0],\n",
       " [0, 0],\n",
       " [0, 0],\n",
       " [0, 0],\n",
       " [0, 0],\n",
       " [0, 0],\n",
       " [0, 0],\n",
       " -1,\n",
       " 0,\n",
       " 0,\n",
       " 1090,\n",
       " 1090,\n",
       " 1220,\n",
       " 1000,\n",
       " 1130,\n",
       " 1100,\n",
       " 1200,\n",
       " 1010,\n",
       " 1110,\n",
       " 1150,\n",
       " [0, 72],\n",
       " [72, 87],\n",
       " [87, 332],\n",
       " [452, 467],\n",
       " [467, 638],\n",
       " [758, 773],\n",
       " [0, 0],\n",
       " [0, 0],\n",
       " [0, 0],\n",
       " [0, 0],\n",
       " [0, 0],\n",
       " [0, 0],\n",
       " [0, 0],\n",
       " -3,\n",
       " 0,\n",
       " 0,\n",
       " 1020,\n",
       " 960,\n",
       " 970,\n",
       " 1070,\n",
       " 1010,\n",
       " 1170,\n",
       " 1020,\n",
       " 990,\n",
       " [0, 268],\n",
       " [268, 283],\n",
       " [283, 504],\n",
       " [504, 519],\n",
       " [519, 615],\n",
       " [735, 750],\n",
       " [750, 821],\n",
       " [941, 956],\n",
       " [956, 1018],\n",
       " [1138, 1153],\n",
       " [1273, 1288],\n",
       " [1288, 1384],\n",
       " [1384, 1399],\n",
       " [0, 0],\n",
       " [0, 0],\n",
       " [0, 0]]"
      ]
     },
     "execution_count": 201,
     "metadata": {},
     "output_type": "execute_result"
    }
   ],
   "source": [
    "from typing import Any\n",
    "def flatten(inp) -> list:\n",
    "    CHAINED_OVENS = []\n",
    "    def F(oven_pars):\n",
    "        global CHAINED_OVENS\n",
    "        for i in oven_pars:\n",
    "            if type(i) in [list, tuple]:\n",
    "                # print(1)\n",
    "                # break\n",
    "                F(i)\n",
    "            else:\n",
    "                CHAINED_OVENS = CHAINED_OVENS + [i]\n",
    "                # print(CHAINED_OVENS)\n",
    "        # CHAINED_OVENS = CHAINED_OVENS + [oven_pars]\n",
    "    F(inp)\n",
    "    \n",
    "\n",
    "\n",
    "padding = 10\n",
    "LABELS = []\n",
    "for key, val in optimized_ovens_stream.items():\n",
    "    a = list(set(key.operations))\n",
    "    b = key.working_temps\n",
    "    a = [en.value for en in OPERS for el in a if en.name == el] + [0] * (3 - len(a))\n",
    "    LABELS.extend(a)\n",
    "    LABELS.append(key.start_temp)\n",
    "    LABELS.extend(b)\n",
    "    # LABELS.extend(f'{a + [0] * (3 - len(a)), key.start_temp, b + [0] * (padding - len(b))}')\n",
    "    print(f'{a + [0] * (3 - len(a)), key.start_temp, b + [0] * (padding - len(b))}')  ##читаемый  текст\n",
    "    # print([en.value for en in OPERS for el in a if en.name == el] + [0] * (3 - len(a)), key.start_temp, b + [0] * (padding - len(b)))  ##рабочий   текст\n",
    "    for ser in val:\n",
    "        x = [[i.abs_start, i.abs_end] for i in ser.operations]\n",
    "        LABELS.extend(x)\n",
    "        # print(x)\n",
    "    for _ in range(padding - val.__len__()):\n",
    "        LABELS +=[ [0,0]]\n",
    "    # print(val)\n",
    "LABELS\n"
   ]
  },
  {
   "cell_type": "code",
   "execution_count": 206,
   "metadata": {},
   "outputs": [
    {
     "data": {
      "text/plain": [
       "array([-1,  0,  0, ...,  0,  0,  0])"
      ]
     },
     "execution_count": 206,
     "metadata": {},
     "output_type": "execute_result"
    }
   ],
   "source": [
    "import numpy as np\n",
    "# np.array(F(LABELS))\n",
    "# CHAINED_OVENS\n",
    "flatten(LABELS)  # flattten all data\n",
    "labl = np.array(CHAINED_OVENS) # save data |always len is const  =5062\n",
    "np.save('labls.npy', labl)\n",
    "# CHAINED_OVENS\n",
    "labl"
   ]
  }
 ],
 "metadata": {
  "kernelspec": {
   "display_name": "Python 3",
   "language": "python",
   "name": "python3"
  },
  "language_info": {
   "codemirror_mode": {
    "name": "ipython",
    "version": 3
   },
   "file_extension": ".py",
   "mimetype": "text/x-python",
   "name": "python",
   "nbconvert_exporter": "python",
   "pygments_lexer": "ipython3",
   "version": "3.11.4"
  }
 },
 "nbformat": 4,
 "nbformat_minor": 2
}
